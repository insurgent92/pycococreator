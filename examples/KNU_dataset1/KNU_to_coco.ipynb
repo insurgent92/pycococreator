{
 "cells": [
  {
   "cell_type": "markdown",
   "metadata": {},
   "source": [
    "# COCO 스러운 Dataset 형식 만들기"
   ]
  },
  {
   "cell_type": "code",
   "execution_count": 13,
   "metadata": {},
   "outputs": [],
   "source": [
    "import datetime\n",
    "import json\n",
    "import os\n",
    "import re\n",
    "import fnmatch\n",
    "from PIL import Image\n",
    "import numpy as np\n",
    "import sys\n",
    "sys.path.insert(0,'./../../')\n",
    "from pycococreatortools import pycococreatortools\n",
    "import csv"
   ]
  },
  {
   "cell_type": "code",
   "execution_count": null,
   "metadata": {},
   "outputs": [],
   "source": [
    "ROOT_DIR = 'train'\n",
    "IMAGE_DIR = os.path.join(ROOT_DIR, \"KNU_train2018\")\n",
    "ANNOTATION_DIR = os.path.join(ROOT_DIR, \"annotations\")"
   ]
  },
  {
   "cell_type": "markdown",
   "metadata": {},
   "source": [
    "    INFO와 LICENSES는 안걸들려도됨"
   ]
  },
  {
   "cell_type": "code",
   "execution_count": 15,
   "metadata": {},
   "outputs": [],
   "source": [
    "INFO = {\n",
    "    \"description\": \"Example Dataset\",\n",
    "    \"url\": \"https://github.com/waspinator/pycococreator\",\n",
    "    \"version\": \"0.1.0\",\n",
    "    \"year\": 2018,\n",
    "    \"contributor\": \"waspinator\",\n",
    "    \"date_created\": datetime.datetime.utcnow().isoformat(' ')\n",
    "}"
   ]
  },
  {
   "cell_type": "code",
   "execution_count": 16,
   "metadata": {},
   "outputs": [],
   "source": [
    "LICENSES = [\n",
    "    {\n",
    "        \"id\": 1,\n",
    "        \"name\": \"Attribution-NonCommercial-ShareAlike License\",\n",
    "        \"url\": \"http://creativecommons.org/licenses/by-nc-sa/2.0/\"\n",
    "    }\n",
    "]"
   ]
  },
  {
   "cell_type": "markdown",
   "metadata": {},
   "source": [
    "    지금 카테고리가 세개임 (shape 예제 그대로 가져와서)\n",
    "    이 예제는 카테고리 id가 1부터 시작하는데\n",
    "    가령 우리 예제는 0부터 시작한다던가 하면 coco에서 계산할때 0은 무시해버림\n",
    "    1,2,3 제외한 caterory id들은 전부다 무시해버림"
   ]
  },
  {
   "cell_type": "code",
   "execution_count": 17,
   "metadata": {},
   "outputs": [],
   "source": [
    "CATEGORIES = [\n",
    "    {\n",
    "        'id': 1,\n",
    "        'name': 'square',\n",
    "        'supercategory': 'shape',\n",
    "    },\n",
    "    {\n",
    "        'id': 2,\n",
    "        'name': 'circle',\n",
    "        'supercategory': 'shape',\n",
    "    },\n",
    "    {\n",
    "        'id': 3,\n",
    "        'name': 'triangle',\n",
    "        'supercategory': 'shape',\n",
    "    },\n",
    "]"
   ]
  },
  {
   "cell_type": "code",
   "execution_count": 19,
   "metadata": {},
   "outputs": [],
   "source": [
    "def create_annotation_info(annotation_id, image_id, category_info, bounding_box, \n",
    "                           image_size, tolerance=2, binary_mask = None):\n",
    "\n",
    "    \n",
    "    segmentation = [[1]]\n",
    "\n",
    "    area = 10\n",
    "\n",
    "    if category_info[\"is_crowd\"]:\n",
    "        is_crowd = 1\n",
    "    else :\n",
    "        is_crowd = 0\n",
    "\n",
    "\n",
    "    annotation_info = {\n",
    "        \"id\": annotation_id,\n",
    "        \"image_id\": image_id,\n",
    "        \"category_id\": category_info[\"id\"],\n",
    "        \"iscrowd\": is_crowd, #iscrowd 옵션에 따라서 어떻게 변하는지 잘 모르겠음 \n",
    "        \"area\": bounding_box[2] *  bounding_box[2],\n",
    "        \"bbox\": bounding_box,\n",
    "        #\"segmentation\": segmentation, #segmentation 안할꺼면 굳이 안넣어도됨 \n",
    "        \"width\": image_size[0],\n",
    "        \"height\": image_size[1]\n",
    "    } \n",
    "    \n",
    "    return annotation_info"
   ]
  },
  {
   "cell_type": "code",
   "execution_count": 20,
   "metadata": {},
   "outputs": [],
   "source": [
    "image_id = 1\n",
    "segmentation_id = 1"
   ]
  },
  {
   "cell_type": "code",
   "execution_count": 21,
   "metadata": {},
   "outputs": [],
   "source": [
    "def filter_for_jpeg(root, files):\n",
    "    file_types = ['*.jpeg', '*.jpg']\n",
    "    file_types = r'|'.join([fnmatch.translate(x) for x in file_types])\n",
    "    files = [os.path.join(root, f) for f in files]\n",
    "    files = [f for f in files if re.match(file_types, f)]\n",
    "    \n",
    "    return files"
   ]
  },
  {
   "cell_type": "code",
   "execution_count": 22,
   "metadata": {},
   "outputs": [],
   "source": [
    "def filter_for_annotations(root, files, image_filename):\n",
    "    file_types = ['*.txt']\n",
    "    file_types = r'|'.join([fnmatch.translate(x) for x in file_types])\n",
    "    basename_no_extension = os.path.splitext(os.path.basename(image_filename))[0]\n",
    "    file_name_prefix = basename_no_extension + '.*'\n",
    "    files = [os.path.join(root, f) for f in files]\n",
    "    files = [f for f in files if re.match(file_types, f)]\n",
    "    files = [f for f in files if re.match(file_name_prefix, os.path.splitext(os.path.basename(f))[0])]\n",
    "\n",
    "    return files"
   ]
  },
  {
   "cell_type": "code",
   "execution_count": 23,
   "metadata": {},
   "outputs": [],
   "source": [
    "coco_output = {\n",
    "        \"info\": INFO,\n",
    "        \"licenses\": LICENSES,\n",
    "        \"categories\": CATEGORIES,\n",
    "        \"images\": [],\n",
    "        \"annotations\": []\n",
    "    }"
   ]
  },
  {
   "cell_type": "code",
   "execution_count": 25,
   "metadata": {},
   "outputs": [
    {
     "name": "stdout",
     "output_type": "stream",
     "text": [
      "./annotations\\20180312_170057_0000.txt\n",
      "['1 0.947656 0.066667 0.062500 0.130556']\n",
      "[1.0, 0.947656, 0.066667, 0.0625, 0.130556]\n",
      "center_x: 3638.99904\n",
      "center_y: 144.00072\n",
      "width: 3840\n",
      "height: 2160\n",
      "3518.99904 3.000239999999991 240.0 282.00096\n",
      "./annotations\\20180312_170057_0001.txt\n",
      "['2 0.950781 0.061806 0.050000 0.120833']\n",
      "[2.0, 0.950781, 0.061806, 0.05, 0.120833]\n",
      "center_x: 3650.99904\n",
      "center_y: 133.50096\n",
      "width: 3840\n",
      "height: 2160\n",
      "3554.99904 3.0013199999999927 192.0 260.99928\n",
      "./annotations\\20180312_170057_0002.txt\n",
      "['0 0.950781 0.058333 0.053125 0.113889']\n",
      "[0.0, 0.950781, 0.058333, 0.053125, 0.113889]\n",
      "center_x: 3650.99904\n",
      "center_y: 125.99928000000001\n",
      "width: 3840\n",
      "height: 2160\n",
      "3548.99904 2.9991600000000034 204.0 246.00024000000002\n",
      "./annotations\\20180312_170057_0003.txt\n",
      "['0 0.946484 0.065972 0.053906 0.129167']\n",
      "[0.0, 0.946484, 0.065972, 0.053906, 0.129167]\n",
      "center_x: 3634.49856\n",
      "center_y: 142.49952000000002\n",
      "width: 3840\n",
      "height: 2160\n",
      "3530.99904 2.9991600000000176 206.99904 279.00072\n",
      "./annotations\\20180312_170057_0004.txt\n",
      "['0 0.945703 0.068750 0.039844 0.129167']\n",
      "[0.0, 0.945703, 0.06875, 0.039844, 0.129167]\n",
      "center_x: 3631.49952\n",
      "center_y: 148.5\n",
      "width: 3840\n",
      "height: 2160\n",
      "3554.9990399999997 8.99964 153.00096 279.00072\n"
     ]
    }
   ],
   "source": [
    "IMAGE_DIR = './images'\n",
    "ANNOTATION_DIR = \"./annotations\"\n",
    "image_id = 1\n",
    "object_id = 1\n",
    "for root, _, files in os.walk(IMAGE_DIR):\n",
    "        image_files = filter_for_jpeg(root, files)\n",
    "\n",
    "        # go through each image\n",
    "        for image_filename in image_files:\n",
    "            image = Image.open(image_filename)\n",
    "            image_info = pycococreatortools.create_image_info(\n",
    "                image_id, os.path.basename(image_filename), image.size)\n",
    "            coco_output[\"images\"].append(image_info)\n",
    "\n",
    "            # filter for associated png annotations\n",
    "            for root, _, files in os.walk(ANNOTATION_DIR):\n",
    "                annotation_files = filter_for_annotations(root, files, image_filename)\n",
    "\n",
    "                # go through each associated annotation\n",
    "                for annotation_filename in annotation_files:\n",
    "                    print(annotation_filename)\n",
    "                    \n",
    "                    with open(annotation_filename, 'r') as raw:\n",
    "                        lines = raw.readlines()\n",
    "                    cooked = csv.reader(lines)\n",
    "                    for record in cooked:\n",
    "                        print(record)\n",
    "                        my_list = list(np.float_(record[0].split(' ')))\n",
    "                        print(my_list)\n",
    "                        category_info = {'id': int(my_list[0]), 'is_crowd': False}\n",
    "                        \n",
    "                        height =image.size[1]\n",
    "                        width = image.size[0]\n",
    "                        \n",
    "                        object_width = my_list[3] * width\n",
    "                        object_height = my_list[4] * height\n",
    "                        \n",
    "                        center_x =  my_list[1] * width\n",
    "                        center_y = my_list[2] * height\n",
    "                        \n",
    "                        topleft_x = center_x - object_width / 2\n",
    "                        topleft_y = center_y - object_height / 2\n",
    "                        \n",
    "                        print(\"center_x:\",center_x)\n",
    "                        print(\"center_y:\",center_y)\n",
    "                        print(\"width:\",width)\n",
    "                        print(\"height:\",height)\n",
    "                        print(topleft_x,topleft_y,object_width,object_height)\n",
    "                        \n",
    "                        annotation_info = create_annotation_info(\n",
    "                        annotation_id = object_id, image_id = image_id, category_info = category_info, \n",
    "                            bounding_box = [topleft_x,topleft_y,object_width,object_height],\n",
    "                            image_size = image.size, tolerance=2, binary_mask = None)\n",
    "\n",
    "                        if annotation_info is not None:\n",
    "                            coco_output[\"annotations\"].append(annotation_info)\n",
    "              \n",
    "                        object_id = object_id + 1\n",
    "            image_id = image_id + 1\n",
    "        \n",
    "        "
   ]
  },
  {
   "cell_type": "markdown",
   "metadata": {},
   "source": [
    "# 파일 쓰기\n",
    "    만든 coco_output를 가지고 최종 파일 만들어냄"
   ]
  },
  {
   "cell_type": "code",
   "execution_count": 26,
   "metadata": {},
   "outputs": [],
   "source": [
    "with open('{}/instances_KNU_train2018.json'.format(ROOT_DIR), 'w') as output_json_file:\n",
    "    json.dump(coco_output, output_json_file)"
   ]
  },
  {
   "cell_type": "code",
   "execution_count": 27,
   "metadata": {},
   "outputs": [],
   "source": [
    "#print(coco_output)"
   ]
  }
 ],
 "metadata": {
  "kernelspec": {
   "display_name": "Python 3",
   "language": "python",
   "name": "python3"
  },
  "language_info": {
   "codemirror_mode": {
    "name": "ipython",
    "version": 3
   },
   "file_extension": ".py",
   "mimetype": "text/x-python",
   "name": "python",
   "nbconvert_exporter": "python",
   "pygments_lexer": "ipython3",
   "version": "3.6.5"
  }
 },
 "nbformat": 4,
 "nbformat_minor": 2
}
